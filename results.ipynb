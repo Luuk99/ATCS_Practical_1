{
 "cells": [
  {
   "cell_type": "markdown",
   "id": "6cb991af",
   "metadata": {},
   "source": [
    "# Results of the Experiments\n",
    "\n",
    "This notebook contains the results of the models, followed by a section to test the models yourself."
   ]
  },
  {
   "cell_type": "markdown",
   "id": "2417910d",
   "metadata": {},
   "source": [
    "## SNLI Results\n",
    "\n",
    "This section contains the accuracy scores of the pre-trained models on the SNLI task."
   ]
  },
  {
   "cell_type": "code",
   "execution_count": 1,
   "id": "d3ac856e",
   "metadata": {},
   "outputs": [],
   "source": [
    "# import required packages\n",
    "import torch\n",
    "import pytorch_lightning as pl\n",
    "import numpy as np\n",
    "import matplotlib.pyplot as plt\n",
    "import sklearn.metrics\n",
    "import spacy\n",
    "tokenizer = spacy.load(\"en\")\n",
    "\n",
    "# import required code files\n",
    "from dataset.LoadData import *\n",
    "from main import *"
   ]
  },
  {
   "cell_type": "code",
   "execution_count": 2,
   "id": "767d81b5",
   "metadata": {},
   "outputs": [],
   "source": [
    "# load the test dataset\n",
    "vocab, label_vocab, _, _, test_iter = load_snli(device=None, batch_size=64, return_label_vocab=True)"
   ]
  },
  {
   "cell_type": "code",
   "execution_count": 10,
   "id": "88929bfa",
   "metadata": {},
   "outputs": [],
   "source": [
    "# function that tests a model and returns the confusion matrix\n",
    "def evaluate_model(model, test_dataloader):\n",
    "    all_predicted_labels = []\n",
    "    all_real_labels = []\n",
    "    for batch_index, batch in enumerate(test_dataloader):\n",
    "        # get the sentence lengths of the batch\n",
    "        lengths_premises = torch.tensor([x[x!=1].shape[0] for x in batch.premise], device=model.device)\n",
    "        lengths_hypothesis = torch.tensor([x[x!=1].shape[0] for x in batch.hypothesis], device=model.device)\n",
    "\n",
    "        # pass premises and hypothesis through the embeddings\n",
    "        premises = model.glove_embeddings(batch.premise.to(model.device))\n",
    "        hypothesis = model.glove_embeddings(batch.hypothesis.to(model.device))\n",
    "\n",
    "        # forward the premises and hypothesis through the Encoder\n",
    "        premises = model.encoder(premises, lengths_premises)\n",
    "        hypothesis = model.encoder(hypothesis, lengths_hypothesis)\n",
    "\n",
    "        # calculate the difference and multiplication\n",
    "        difference = torch.abs(premises - hypothesis)\n",
    "        multiplication = premises * hypothesis\n",
    "\n",
    "        # create the sentence representations\n",
    "        sentence_representations = torch.cat([premises, hypothesis, difference, multiplication], dim=1)\n",
    "\n",
    "        # pass through the classifier\n",
    "        predictions = model.classifier(sentence_representations)\n",
    "\n",
    "        # get the predicted labels and real labels\n",
    "        predicted_labels = torch.argmax(predictions, dim=1)\n",
    "        real_labels = batch.label\n",
    "        \n",
    "        # add to the lists\n",
    "        all_predicted_labels.append(predicted_labels)\n",
    "        all_real_labels.append(real_labels)\n",
    "    # cat the labels\n",
    "    all_predicted_labels = torch.cat(all_predicted_labels, dim=0)\n",
    "    all_real_labels = torch.cat(all_real_labels, dim=0)\n",
    "    \n",
    "    # calculate the confusion matrix\n",
    "    confusion_matrix = sklearn.metrics.confusion_matrix(all_real_labels.cpu().detach().numpy(),\n",
    "                                                        all_predicted_labels.cpu().detach().numpy())\n",
    "    print('Confusion matrix:')\n",
    "    print(confusion_matrix)\n",
    "    print('Columns are actual labels and rows are predicted labels')\n",
    "    print('Labels:')\n",
    "    print([label_vocab.itos[x] for x in [0, 1, 2]])"
   ]
  },
  {
   "cell_type": "markdown",
   "id": "2c356a8a",
   "metadata": {},
   "source": [
    "### AWE Model \n",
    "\n",
    "This subsection contains the results of the AWE on the SNLI task."
   ]
  },
  {
   "cell_type": "code",
   "execution_count": 17,
   "id": "7a0cc61d",
   "metadata": {},
   "outputs": [
    {
     "name": "stderr",
     "output_type": "stream",
     "text": [
      "GPU available: True, used: True\n",
      "TPU available: False, using: 0 TPU cores\n",
      "LOCAL_RANK: 0 - CUDA_VISIBLE_DEVICES: [0]\n"
     ]
    },
    {
     "data": {
      "application/vnd.jupyter.widget-view+json": {
       "model_id": "8b1f704aa2fa401a8415c427a7189c61",
       "version_major": 2,
       "version_minor": 0
      },
      "text/plain": [
       "HBox(children=(HTML(value='Testing'), FloatProgress(value=1.0, bar_style='info', layout=Layout(flex='2'), max=…"
      ]
     },
     "metadata": {},
     "output_type": "display_data"
    },
    {
     "name": "stdout",
     "output_type": "stream",
     "text": [
      "--------------------------------------------------------------------------------\n",
      "DATALOADER:0 TEST RESULTS\n",
      "{'test_acc': tensor(0.6793, device='cuda:0'),\n",
      " 'test_loss': tensor(0.7365, device='cuda:0')}\n",
      "--------------------------------------------------------------------------------\n",
      "\n"
     ]
    }
   ],
   "source": [
    "# create a PyTorch Lightning trainer\n",
    "trainer = pl.Trainer(logger=False,\n",
    "                     checkpoint_callback=False,\n",
    "                     gpus=1 if torch.cuda.is_available() else 0,\n",
    "                     progress_bar_refresh_rate=1)\n",
    "\n",
    "# load the AWE model from the given checkpoint\n",
    "model = FullModel.load_from_checkpoint('pl_logs/lightning_logs/awe/checkpoints/epoch=10.ckpt')\n",
    "\n",
    "# test the model\n",
    "model.freeze()\n",
    "test_result = trainer.test(model, test_dataloaders=test_iter, verbose=True)"
   ]
  },
  {
   "cell_type": "code",
   "execution_count": 18,
   "id": "a620341c",
   "metadata": {},
   "outputs": [
    {
     "name": "stdout",
     "output_type": "stream",
     "text": [
      "Confusion matrix:\n",
      "[[2521  362  485]\n",
      " [ 546 2175  516]\n",
      " [ 574  668 1977]]\n",
      "Columns are actual labels and rows are predicted labels\n",
      "Labels:\n",
      "['entailment', 'contradiction', 'neutral']\n"
     ]
    }
   ],
   "source": [
    "# evaluate the model for confusion matrix\n",
    "evaluate_model(model, test_iter)"
   ]
  },
  {
   "cell_type": "markdown",
   "id": "83129b51",
   "metadata": {},
   "source": [
    "### UniLSTM Model \n",
    "\n",
    "This subsection contains the results of the unidirectional LSTM on the SNLI task."
   ]
  },
  {
   "cell_type": "code",
   "execution_count": 19,
   "id": "e2faa7ff",
   "metadata": {},
   "outputs": [
    {
     "name": "stderr",
     "output_type": "stream",
     "text": [
      "GPU available: True, used: True\n",
      "TPU available: False, using: 0 TPU cores\n",
      "LOCAL_RANK: 0 - CUDA_VISIBLE_DEVICES: [0]\n"
     ]
    },
    {
     "data": {
      "application/vnd.jupyter.widget-view+json": {
       "model_id": "7e26ce81985242d4b11b99013bff2a8f",
       "version_major": 2,
       "version_minor": 0
      },
      "text/plain": [
       "HBox(children=(HTML(value='Testing'), FloatProgress(value=1.0, bar_style='info', layout=Layout(flex='2'), max=…"
      ]
     },
     "metadata": {},
     "output_type": "display_data"
    },
    {
     "name": "stdout",
     "output_type": "stream",
     "text": [
      "--------------------------------------------------------------------------------\n",
      "DATALOADER:0 TEST RESULTS\n",
      "{'test_acc': tensor(0.7971, device='cuda:0'),\n",
      " 'test_loss': tensor(0.5171, device='cuda:0')}\n",
      "--------------------------------------------------------------------------------\n",
      "\n"
     ]
    }
   ],
   "source": [
    "# create a PyTorch Lightning trainer\n",
    "trainer = pl.Trainer(logger=False,\n",
    "                     checkpoint_callback=False,\n",
    "                     gpus=1 if torch.cuda.is_available() else 0,\n",
    "                     progress_bar_refresh_rate=1)\n",
    "\n",
    "# load the UniLSTM model from the given checkpoint\n",
    "model = FullModel.load_from_checkpoint('pl_logs/lightning_logs/unilstm/checkpoints/epoch=11.ckpt')\n",
    "\n",
    "# test the model\n",
    "model.freeze()\n",
    "test_result = trainer.test(model, test_dataloaders=test_iter, verbose=True)"
   ]
  },
  {
   "cell_type": "code",
   "execution_count": 20,
   "id": "dafc53de",
   "metadata": {},
   "outputs": [
    {
     "name": "stdout",
     "output_type": "stream",
     "text": [
      "Confusion matrix:\n",
      "[[2886  126  356]\n",
      " [ 273 2567  397]\n",
      " [ 489  352 2378]]\n",
      "Columns are actual labels and rows are predicted labels\n",
      "Labels:\n",
      "['entailment', 'contradiction', 'neutral']\n"
     ]
    }
   ],
   "source": [
    "# evaluate the model for confusion matrix\n",
    "evaluate_model(model, test_iter)"
   ]
  },
  {
   "cell_type": "markdown",
   "id": "d64cbb1c",
   "metadata": {},
   "source": [
    "### BiLSTM Model \n",
    "\n",
    "This subsection contains the results of the bidirectional LSTM on the SNLI task."
   ]
  },
  {
   "cell_type": "code",
   "execution_count": 13,
   "id": "d9d7bd3b",
   "metadata": {},
   "outputs": [
    {
     "name": "stderr",
     "output_type": "stream",
     "text": [
      "GPU available: True, used: True\n",
      "TPU available: False, using: 0 TPU cores\n",
      "LOCAL_RANK: 0 - CUDA_VISIBLE_DEVICES: [0]\n"
     ]
    },
    {
     "data": {
      "application/vnd.jupyter.widget-view+json": {
       "model_id": "1ecf026292c145558a476c5b39b217b1",
       "version_major": 2,
       "version_minor": 0
      },
      "text/plain": [
       "HBox(children=(HTML(value='Testing'), FloatProgress(value=1.0, bar_style='info', layout=Layout(flex='2'), max=…"
      ]
     },
     "metadata": {},
     "output_type": "display_data"
    },
    {
     "name": "stdout",
     "output_type": "stream",
     "text": [
      "--------------------------------------------------------------------------------\n",
      "DATALOADER:0 TEST RESULTS\n",
      "{'test_acc': tensor(0.7978, device='cuda:0'),\n",
      " 'test_loss': tensor(0.5474, device='cuda:0')}\n",
      "--------------------------------------------------------------------------------\n",
      "\n"
     ]
    }
   ],
   "source": [
    "# create a PyTorch Lightning trainer\n",
    "trainer = pl.Trainer(logger=False,\n",
    "                     checkpoint_callback=False,\n",
    "                     gpus=1 if torch.cuda.is_available() else 0,\n",
    "                     progress_bar_refresh_rate=1)\n",
    "\n",
    "# load the BiLSTM model from the given checkpoint\n",
    "model = FullModel.load_from_checkpoint('pl_logs/lightning_logs/bilstm/checkpoints/epoch=13.ckpt')\n",
    "\n",
    "# test the model\n",
    "model.freeze()\n",
    "test_result = trainer.test(model, test_dataloaders=test_iter, verbose=True)"
   ]
  },
  {
   "cell_type": "code",
   "execution_count": 14,
   "id": "dbcaafcd",
   "metadata": {},
   "outputs": [
    {
     "name": "stdout",
     "output_type": "stream",
     "text": [
      "Confusion matrix:\n",
      "[[2789  201  378]\n",
      " [ 210 2683  344]\n",
      " [ 457  396 2366]]\n",
      "Columns are actual labels and rows are predicted labels\n",
      "Labels:\n",
      "['entailment', 'contradiction', 'neutral']\n"
     ]
    }
   ],
   "source": [
    "# evaluate the model for confusion matrix\n",
    "evaluate_model(model, test_iter)"
   ]
  },
  {
   "cell_type": "markdown",
   "id": "57e3480f",
   "metadata": {},
   "source": [
    "### BiLSTMMax Model \n",
    "\n",
    "This subsection contains the results of the bidirectional LSTM with max pooling on the SNLI task."
   ]
  },
  {
   "cell_type": "code",
   "execution_count": 15,
   "id": "23c6c604",
   "metadata": {},
   "outputs": [
    {
     "name": "stderr",
     "output_type": "stream",
     "text": [
      "GPU available: True, used: True\n",
      "TPU available: False, using: 0 TPU cores\n",
      "LOCAL_RANK: 0 - CUDA_VISIBLE_DEVICES: [0]\n"
     ]
    },
    {
     "data": {
      "application/vnd.jupyter.widget-view+json": {
       "model_id": "ba497fd055b34dbca5ba276d52d03c71",
       "version_major": 2,
       "version_minor": 0
      },
      "text/plain": [
       "HBox(children=(HTML(value='Testing'), FloatProgress(value=1.0, bar_style='info', layout=Layout(flex='2'), max=…"
      ]
     },
     "metadata": {},
     "output_type": "display_data"
    },
    {
     "name": "stdout",
     "output_type": "stream",
     "text": [
      "--------------------------------------------------------------------------------\n",
      "DATALOADER:0 TEST RESULTS\n",
      "{'test_acc': tensor(0.8385, device='cuda:0'),\n",
      " 'test_loss': tensor(0.6197, device='cuda:0')}\n",
      "--------------------------------------------------------------------------------\n",
      "\n"
     ]
    }
   ],
   "source": [
    "# create a PyTorch Lightning trainer\n",
    "trainer = pl.Trainer(logger=False,\n",
    "                     checkpoint_callback=False,\n",
    "                     gpus=1 if torch.cuda.is_available() else 0,\n",
    "                     progress_bar_refresh_rate=1)\n",
    "\n",
    "# load the BiLSTMMax model from the given checkpoint\n",
    "model = FullModel.load_from_checkpoint('pl_logs/lightning_logs/bilstmmax/checkpoints/epoch=7.ckpt')\n",
    "\n",
    "# test the model\n",
    "model.freeze()\n",
    "test_result = trainer.test(model, test_dataloaders=test_iter, verbose=True)"
   ]
  },
  {
   "cell_type": "code",
   "execution_count": 16,
   "id": "df99fb7c",
   "metadata": {},
   "outputs": [
    {
     "name": "stdout",
     "output_type": "stream",
     "text": [
      "Confusion matrix:\n",
      "[[2976  100  292]\n",
      " [ 159 2784  294]\n",
      " [ 414  328 2477]]\n",
      "Columns are actual labels and rows are predicted labels\n",
      "Labels:\n",
      "['entailment', 'contradiction', 'neutral']\n"
     ]
    }
   ],
   "source": [
    "# evaluate the model for confusion matrix\n",
    "evaluate_model(model, test_iter)"
   ]
  },
  {
   "cell_type": "markdown",
   "id": "118553ce",
   "metadata": {},
   "source": [
    "### Training Results\n",
    "\n",
    "This section summarizes the results from training in the following table."
   ]
  },
  {
   "cell_type": "code",
   "execution_count": 22,
   "id": "ae96a7af",
   "metadata": {},
   "outputs": [
    {
     "data": {
      "image/png": "[encoded data removed]",
      "text/plain": [
       "<Figure size 432x288 with 1 Axes>"
      ]
     },
     "metadata": {
      "needs_background": "light"
     },
     "output_type": "display_data"
    }
   ],
   "source": [
    "title_text = 'Training results of the different models'\n",
    "data =  [\n",
    "            [         'AWE', 'UniLSTM', 'BiLSTM', 'BiLSTMMax'],\n",
    "            [ 'Train loss',  0.7546, 0.4420,   0.3386,  0.0693],\n",
    "            ['Train acc',  0.6691, 0.8264,   0.8712,   0.9788],\n",
    "            ['Dev loss',  0.7293,  0.5092,  0.5736,  0.9928],\n",
    "            ['Dev acc',  0.6792,  0.7963,  0.7928,  0.8306],\n",
    "        ]\n",
    "# Pop the headers from the data array\n",
    "column_headers = data.pop(0)\n",
    "row_headers = [x.pop(0) for x in data]\n",
    "# Table data needs to be non-numeric text. Format the data\n",
    "# while I'm at it.\n",
    "cell_text = []\n",
    "for row in data:\n",
    "    cell_text.append([f'{x:.4f}' for x in row])\n",
    "# Get some lists of color specs for row and column headers\n",
    "rcolors = plt.cm.BuPu(np.full(len(row_headers), 0.1))\n",
    "ccolors = plt.cm.BuPu(np.full(len(column_headers), 0.1))\n",
    "# Create the figure. Setting a small pad on tight_layout\n",
    "# seems to better regulate white space. Sometimes experimenting\n",
    "# with an explicit figsize here can produce better outcome.\n",
    "plt.figure(linewidth=2,\n",
    "           tight_layout={'pad':1},\n",
    "          )\n",
    "# Add a table at the bottom of the axes\n",
    "the_table = plt.table(cellText=cell_text,\n",
    "                      rowLabels=row_headers,\n",
    "                      rowLoc='right',\n",
    "                      colLabels=column_headers,\n",
    "                      loc='center')\n",
    "# Scaling is the only influence we have over top and bottom cell padding.\n",
    "# Make the rows taller (i.e., make cell y scale larger).\n",
    "the_table.scale(1, 1.5)\n",
    "# Hide axes\n",
    "ax = plt.gca()\n",
    "ax.get_xaxis().set_visible(False)\n",
    "ax.get_yaxis().set_visible(False)\n",
    "# Hide axes border\n",
    "plt.box(on=None)\n",
    "# Add title\n",
    "plt.suptitle(title_text)\n",
    "# Force the figure to update, so backends center objects correctly within the figure.\n",
    "# Without plt.draw() here, the title will center on the axes and not the figure.\n",
    "plt.draw()"
   ]
  },
  {
   "cell_type": "markdown",
   "id": "371e5cd9",
   "metadata": {},
   "source": [
    "## Conclusion\n",
    "\n",
    "This section provides a small conclusion on the results of the SNLI task."
   ]
  },
  {
   "cell_type": "markdown",
   "id": "6aed51c0",
   "metadata": {},
   "source": [
    "We see that the Average Word Embedding (AWE) model already performs significantly better than random guessing (about 33% accuracy for random guessing) with a test accuracy of around 67%. This means that such a simple model is already able to capture some form of semantic entailment/contradiction. When we look at the confusion matirx, the model does not make any clear mistakes. However, most mistakes are instances where the model predicts 'neutral' but the real label is 'entailment' or 'contradiction'.\n",
    "\n",
    "When moving to a unidirectional LSTM (UniLSTM) model, we see a significant boost in performance. The test accuracy increases by over 20% points to around 79%. This seems to indicate that the unidirectional LSTM is much better at capturing semantic entailment/contradiction. This can be attributed to the fact that an LSTM is not a simple combination of the word embeddings but uses a history of words and hidden states to create a complex combination of the word embeddings that takes word order into account. When we look at the confusion matrix, we see that the number of errors has significantly decreased. However, we still see the same trend as with the AWE model. Most mistakes are instances where the model predicts 'neutral' but the real label is 'entailment' or 'contradiction'.\n",
    "\n",
    "Interestingly, when upgrading to a bidirectional LSTM that uses the last hidden states of the forward and backward passes concatenated as the sentence representations(BiLSTM) we see no improvement in dev and test accuracy. However, we do see an increase in training performance with about 5% points. This seems to indicate that these hidden states are no better representation of the sentences than the UniLSTM representations. When we look at the confusion matrix, the same trend persists again. Most mistakes are instances where the model predicts 'neutral' but the real label is 'entailment' or 'contradiction'.\n",
    "\n",
    "Lastly, when we upgrade to the bidirectional LSTM that uses max-pooling over the word representations (BiLSTMMax), we see another improvement in test accuracy by about 3-4% compared to the UniLSTM and BiLSTM models. Interesting to note here is that the training accuracy is very high at around 98% which is significantly better than the dev and test accuracy at around 83%. This indicates that the model is overfitting on the training data, which results in a more poor generalization. When we look at the confusion matrix, the trend becomes even clearer. The vast majority of mistakes comes from instances where the model predicts 'neutral' but the real label is 'entailment' or 'contradiction'.\n",
    "\n",
    "In conclusion, the bidirectional LSTM that uses max-pooling over the word representations (BiLSTMMax) is the best model with around 83% test accuracy on the SNLI task. However, this model is prone to overfitting. All models show a trend where most mistakes are made when the model predicts 'neutral' but the real label is 'entailment' or 'contradiction'. This seems to indicate that the model struggles with the 'neutral' scenarios and tends to have some bias to assigning instances to this class."
   ]
  },
  {
   "cell_type": "markdown",
   "id": "277a99e2",
   "metadata": {},
   "source": [
    "## SentEval Results\n",
    "\n",
    "This section contains the scores of the pre-trained models on the SentEval task."
   ]
  },
  {
   "cell_type": "markdown",
   "id": "1a7167af",
   "metadata": {},
   "source": [
    "### AWE Model \n",
    "\n",
    "This subsection contains the results of the AWE on the SNLI task."
   ]
  },
  {
   "cell_type": "code",
   "execution_count": 21,
   "id": "abde9d9b",
   "metadata": {},
   "outputs": [
    {
     "name": "stdout",
     "output_type": "stream",
     "text": [
      "{'MR': {'devacc': 77.97, 'acc': 77.4, 'ndev': 10662, 'ntest': 10662}, 'CR': {'devacc': 80.05, 'acc': 78.81, 'ndev': 3775, 'ntest': 3775}, 'SUBJ': {'devacc': 91.68, 'acc': 91.09, 'ndev': 10000, 'ntest': 10000}, 'MPQA': {'devacc': 88.1, 'acc': 87.49, 'ndev': 10606, 'ntest': 10606}, 'SST2': {'devacc': 79.47, 'acc': 80.62, 'ndev': 872, 'ntest': 1821}, 'TREC': {'devacc': 74.41, 'acc': 82.6, 'ndev': 5452, 'ntest': 500}, 'MRPC': {'devacc': 72.11, 'acc': 71.07, 'f1': 80.86, 'ndev': 4076, 'ntest': 1725}, 'SICKRelatedness': {'devpearson': 0.7946708449595157, 'pearson': 0.7974930439869101, 'spearman': 0.7188112281422497, 'mse': 0.370706846914204, 'yhat': array([2.9839592 , 4.01798285, 1.00421724, ..., 3.36328309, 4.28456761,\n",
      "       4.4432921 ]), 'ndev': 500, 'ntest': 4927}, 'SICKEntailment': {'devacc': 80.0, 'acc': 78.36, 'ndev': 500, 'ntest': 4927}, 'STS14': {'deft-forum': {'pearson': (0.24545577120286255, 1.339879006918266e-07), 'spearman': SpearmanrResult(correlation=0.32298236117803947, pvalue=2.1951219667485575e-12), 'nsamples': 450}, 'deft-news': {'pearson': (0.629971272781546, 1.3959414064640277e-34), 'spearman': SpearmanrResult(correlation=0.6325148738616413, pvalue=6.276135581468842e-35), 'nsamples': 300}, 'headlines': {'pearson': (0.5082335497356666, 1.66807771918017e-50), 'spearman': SpearmanrResult(correlation=0.5076197058473549, pvalue=2.2868437916237445e-50), 'nsamples': 750}, 'images': {'pearson': (0.5797770037440003, 1.4345719438418556e-68), 'spearman': SpearmanrResult(correlation=0.606485977688633, pvalue=1.563609990321127e-76), 'nsamples': 750}, 'OnWN': {'pearson': (0.5623329761203603, 9.391270803240489e-64), 'spearman': SpearmanrResult(correlation=0.6321063018615778, pvalue=6.475356367258195e-85), 'nsamples': 750}, 'tweet-news': {'pearson': (0.4629345298657448, 4.1833130969829844e-41), 'spearman': SpearmanrResult(correlation=0.47894739188579893, pvalue=2.8751495854516125e-44), 'nsamples': 750}, 'all': {'pearson': {'mean': 0.49811751724169673, 'wmean': 0.5025080062600216}, 'spearman': {'mean': 0.5301094353871743, 'wmean': 0.534390948706969}}}}\n"
     ]
    }
   ],
   "source": [
    "# load the results\n",
    "awe_results = torch.load('senteval_outputs/AWESentEvalResults.pt')\n",
    "print(awe_results)"
   ]
  },
  {
   "cell_type": "markdown",
   "id": "cc6c6dc5",
   "metadata": {},
   "source": [
    "## Test Yourself\n",
    "\n",
    "This section allows you to input your own premise and hypothesis to one of the models and get the prediction."
   ]
  },
  {
   "cell_type": "code",
   "execution_count": 5,
   "id": "f44c07f0",
   "metadata": {},
   "outputs": [],
   "source": [
    "# function to tokenize the input string\n",
    "def tokenize(vocab, sentence):\n",
    "    sentence = tokenizer(sentence)\n",
    "    token_list = []\n",
    "    for token in sentence:\n",
    "        token = token.text.lower()\n",
    "        token_list.append(vocab[token])\n",
    "    return torch.tensor(token_list)"
   ]
  },
  {
   "cell_type": "code",
   "execution_count": 9,
   "id": "8b30cc6e",
   "metadata": {},
   "outputs": [],
   "source": [
    "# function to predict the label using a model\n",
    "def predict_label(model_name, model, premise, hypothesis):\n",
    "    # tokenize the premise and hypothesis\n",
    "    premise = tokenize(vocab.stoi, premise).unsqueeze(dim=0)\n",
    "    hypothesis = tokenize(vocab.stoi, hypothesis).unsqueeze(dim=0)\n",
    "\n",
    "    # get the lengths\n",
    "    premise_length = torch.tensor([premise.shape[1]])\n",
    "    hypothesis_length = torch.tensor([hypothesis.shape[1]])\n",
    "\n",
    "    # forward through the embedding\n",
    "    premise = model.glove_embeddings(premise)\n",
    "    hypothesis = model.glove_embeddings(hypothesis)\n",
    "\n",
    "    # forward the premises and hypothesis through the Encoder\n",
    "    premise = model.encoder(premise, premise_length)\n",
    "    hypothesis = model.encoder(hypothesis, hypothesis_length)\n",
    "    \n",
    "    # calculate the difference and multiplication\n",
    "    difference = torch.abs(premise - hypothesis)\n",
    "    multiplication = premise * hypothesis\n",
    "\n",
    "    # create the sentence representations\n",
    "    sentence_representations = torch.cat([premise, hypothesis, difference, multiplication], dim=1)\n",
    "\n",
    "    # pass through the classifier\n",
    "    predictions = model.classifier(sentence_representations)\n",
    "\n",
    "    # get the predicted label\n",
    "    predicted_label = torch.argmax(predictions, dim=1)\n",
    "    predicted_label = label_vocab.itos[predicted_label]\n",
    "\n",
    "    # print the predicted label\n",
    "    print('The {} model predicts the following relation:'.format(model_name))\n",
    "    print(predicted_label)"
   ]
  },
  {
   "cell_type": "code",
   "execution_count": 10,
   "id": "17e2d198",
   "metadata": {},
   "outputs": [],
   "source": [
    "# function that tests all models\n",
    "def test_all_models(premise, hypothesis):\n",
    "    # predict the AWE model\n",
    "    model = FullModel.load_from_checkpoint('pl_logs/lightning_logs/awe/checkpoints/epoch=10.ckpt')\n",
    "    predict_label('AWE', model, premise, hypothesis)\n",
    "    \n",
    "    # predict the UniLSTM model\n",
    "    model = FullModel.load_from_checkpoint('pl_logs/lightning_logs/unilstm/checkpoints/epoch=11.ckpt')\n",
    "    predict_label('UniLSTM', model, premise, hypothesis)\n",
    "    \n",
    "    # predict the BiLSTM model\n",
    "    model = FullModel.load_from_checkpoint('pl_logs/lightning_logs/bilstm/checkpoints/epoch=13.ckpt')\n",
    "    predict_label('BiLSTM', model, premise, hypothesis)\n",
    "    \n",
    "    # predict the BiLSTMMax model\n",
    "    model = FullModel.load_from_checkpoint('pl_logs/lightning_logs/bilstmmax/checkpoints/epoch=7.ckpt')\n",
    "    predict_label('BiLSTMMax', model, premise, hypothesis)"
   ]
  },
  {
   "cell_type": "code",
   "execution_count": 11,
   "id": "3b3f758c",
   "metadata": {},
   "outputs": [
    {
     "name": "stdout",
     "output_type": "stream",
     "text": [
      "Model to use (AWE, UniLSTM, BiLSTM, BiLSTMMax, All):\n",
      "All\n",
      "Input premise:\n",
      "Two women are wearing skirts.\n",
      "Input hypothesis:\n",
      "One of the women is wearing pants.\n",
      "The AWE model predicts the following relation:\n",
      "contradiction\n",
      "The UniLSTM model predicts the following relation:\n",
      "contradiction\n",
      "The BiLSTM model predicts the following relation:\n",
      "entailment\n",
      "The BiLSTMMax model predicts the following relation:\n",
      "contradiction\n"
     ]
    }
   ],
   "source": [
    "# ask the user for the model\n",
    "print('Model to use (AWE, UniLSTM, BiLSTM, BiLSTMMax, All):')\n",
    "model_name = input()\n",
    "\n",
    "# ask user for premise and hypothesis\n",
    "print('Input premise:')\n",
    "premise = input()\n",
    "print('Input hypothesis:')\n",
    "hypothesis = input()\n",
    "\n",
    "# select the correct model\n",
    "if (model_name == 'AWE'):\n",
    "    model = FullModel.load_from_checkpoint('pl_logs/lightning_logs/awe/checkpoints/epoch=10.ckpt')\n",
    "    # predict the label\n",
    "    predict_label(model_name, model, premise, hypothesis)\n",
    "elif (model_name == 'UniLSTM'):\n",
    "    model = FullModel.load_from_checkpoint('pl_logs/lightning_logs/unilstm/checkpoints/epoch=11.ckpt')\n",
    "    # predict the label\n",
    "    predict_label(model_name, model, premise, hypothesis)\n",
    "elif (model_name == 'BiLSTM'):\n",
    "    model = FullModel.load_from_checkpoint('pl_logs/lightning_logs/bilstm/checkpoints/epoch=13.ckpt')\n",
    "    # predict the label\n",
    "    predict_label(model_name, model, premise, hypothesis)\n",
    "elif (model_name == 'BiLSTMMax'):\n",
    "    model = FullModel.load_from_checkpoint('pl_logs/lightning_logs/bilstmmax/checkpoints/epoch=7.ckpt')\n",
    "    # predict the label\n",
    "    predict_label(model_name, model, premise, hypothesis)\n",
    "elif (model_name == 'All'):\n",
    "    # test all models\n",
    "    test_all_models(premise, hypothesis)\n",
    "else:\n",
    "    raise Exception('Incorrect model name')"
   ]
  },
  {
   "cell_type": "code",
   "execution_count": null,
   "id": "a3aef05b",
   "metadata": {},
   "outputs": [],
   "source": []
  }
 ],
 "metadata": {
  "kernelspec": {
   "display_name": "Python 3",
   "language": "python",
   "name": "python3"
  },
  "language_info": {
   "codemirror_mode": {
    "name": "ipython",
    "version": 3
   },
   "file_extension": ".py",
   "mimetype": "text/x-python",
   "name": "python",
   "nbconvert_exporter": "python",
   "pygments_lexer": "ipython3",
   "version": "3.8.8"
  }
 },
 "nbformat": 4,
 "nbformat_minor": 5
}
